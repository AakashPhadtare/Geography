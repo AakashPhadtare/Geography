{
  "cells": [
    {
      "cell_type": "markdown",
      "metadata": {
        "id": "yGyXh5aQJeAw"
      },
      "source": [
        "<a href=\"https://githubtocolab.com/giswqs/geemap/blob/master/examples/notebooks/geopandas.ipynb\" target=\"_parent\"><img src=\"https://colab.research.google.com/assets/colab-badge.svg\" alt=\"Open in Colab\"/></a>\n",
        "\n",
        "Uncomment the following line to install [geemap](https://geemap.org) if needed."
      ]
    },
    {
      "cell_type": "code",
      "execution_count": 1,
      "metadata": {
        "id": "FnQe6pmmJeA_"
      },
      "outputs": [],
      "source": [
        "# !pip install geemap"
      ]
    },
    {
      "cell_type": "code",
      "execution_count": null,
      "metadata": {
        "id": "MvP0JlJ_JeBA"
      },
      "outputs": [],
      "source": [
        "import os\n",
        "import geemap\n",
        "import pandas as pd\n",
        "import geopandas as gpd"
      ]
    },
    {
      "cell_type": "code",
      "execution_count": null,
      "metadata": {
        "id": "Lz1X7bJmJeBB"
      },
      "outputs": [],
      "source": [
        "# geemap.update_package()"
      ]
    },
    {
      "cell_type": "markdown",
      "metadata": {
        "id": "vLPzJbwWJeBB"
      },
      "source": [
        "## Create an interactive map"
      ]
    },
    {
      "cell_type": "code",
      "execution_count": null,
      "metadata": {
        "id": "JqAW9ke3JeBC"
      },
      "outputs": [],
      "source": [
        "Map = geemap.Map()\n",
        "Map"
      ]
    },
    {
      "cell_type": "markdown",
      "metadata": {
        "id": "AcwfrU42JeBC"
      },
      "source": [
        "## Convert ee.FeatureCollection to Pandas DataFrame"
      ]
    },
    {
      "cell_type": "code",
      "execution_count": null,
      "metadata": {
        "id": "sCyzCHQEJeBD"
      },
      "outputs": [],
      "source": [
        "countries_shp = '../data/countries.shp'\n",
        "countries = geemap.shp_to_ee(countries_shp)\n",
        "Map.addLayer(countries, {}, 'Countries')"
      ]
    },
    {
      "cell_type": "code",
      "execution_count": null,
      "metadata": {
        "id": "icDa9-E9JeBD"
      },
      "outputs": [],
      "source": [
        "df = geemap.ee_to_pandas(countries, selectors=['id', 'name'])\n",
        "df.head()"
      ]
    },
    {
      "cell_type": "markdown",
      "metadata": {
        "id": "ru9XafPeJeBE"
      },
      "source": [
        "## Convert ee.FeatureCollection to GeoPandas GeoDataFrame"
      ]
    },
    {
      "cell_type": "code",
      "execution_count": null,
      "metadata": {
        "id": "4ZzZ1BAAJeBE"
      },
      "outputs": [],
      "source": [
        "gdf = geemap.ee_to_geopandas(countries, selectors=['id', 'name'])\n",
        "gdf.head()"
      ]
    },
    {
      "cell_type": "markdown",
      "metadata": {
        "id": "c1gUbBpTJeBF"
      },
      "source": [
        "## Convert Pandas DataFrame to ee.FeatureCollection"
      ]
    },
    {
      "cell_type": "code",
      "execution_count": null,
      "metadata": {
        "id": "2--WGU8gJeBF"
      },
      "outputs": [],
      "source": [
        "in_csv = 'https://raw.githubusercontent.com/giswqs/data/main/world/world_cities.csv'"
      ]
    },
    {
      "cell_type": "code",
      "execution_count": null,
      "metadata": {
        "id": "XAf1biT7JeBF"
      },
      "outputs": [],
      "source": [
        "df = pd.read_csv(in_csv)\n",
        "df.head()"
      ]
    },
    {
      "cell_type": "code",
      "execution_count": null,
      "metadata": {
        "id": "njiD7YZWJeBF"
      },
      "outputs": [],
      "source": [
        "fc = geemap.pandas_to_ee(df, latitude=\"latitude\", longitude=\"longitude\")"
      ]
    },
    {
      "cell_type": "code",
      "execution_count": null,
      "metadata": {
        "id": "07jOnHoEJeBG"
      },
      "outputs": [],
      "source": [
        "Map.addLayer(fc, {}, \"pandas to ee\")\n",
        "Map"
      ]
    },
    {
      "cell_type": "markdown",
      "metadata": {
        "id": "WbckAxBaJeBG"
      },
      "source": [
        "## Convert GeoPandas GeoDataFrame to ee.FeatureCollection"
      ]
    },
    {
      "cell_type": "code",
      "execution_count": null,
      "metadata": {
        "id": "8WNcoiIIJeBH"
      },
      "outputs": [],
      "source": [
        "gdf = gpd.read_file(\n",
        "    \"https://raw.githubusercontent.com/giswqs/data/main/us/us_states.geojson\"\n",
        ")\n",
        "gdf.head()"
      ]
    },
    {
      "cell_type": "code",
      "execution_count": null,
      "metadata": {
        "id": "YQU5rITMJeBH"
      },
      "outputs": [],
      "source": [
        "fc = geemap.geopandas_to_ee(gdf)"
      ]
    },
    {
      "cell_type": "code",
      "execution_count": null,
      "metadata": {
        "id": "Xh5y6-qCJeBI"
      },
      "outputs": [],
      "source": [
        "Map.addLayer(fc, {}, \"geopandas to ee\")\n",
        "Map"
      ]
    }
  ],
  "metadata": {
    "hide_input": false,
    "kernelspec": {
      "display_name": "Python 3",
      "language": "python",
      "name": "python3"
    },
    "language_info": {
      "codemirror_mode": {
        "name": "ipython",
        "version": 3
      },
      "file_extension": ".py",
      "mimetype": "text/x-python",
      "name": "python",
      "nbconvert_exporter": "python",
      "pygments_lexer": "ipython3",
      "version": "3.8.5"
    },
    "toc": {
      "base_numbering": 1,
      "nav_menu": {},
      "number_sections": true,
      "sideBar": true,
      "skip_h1_title": true,
      "title_cell": "Table of Contents",
      "title_sidebar": "Table of Contents",
      "toc_cell": false,
      "toc_position": {},
      "toc_section_display": true,
      "toc_window_display": true
    },
    "varInspector": {
      "cols": {
        "lenName": 16,
        "lenType": 16,
        "lenVar": 40
      },
      "kernels_config": {
        "python": {
          "delete_cmd_postfix": "",
          "delete_cmd_prefix": "del ",
          "library": "var_list.py",
          "varRefreshCmd": "print(var_dic_list())"
        },
        "r": {
          "delete_cmd_postfix": ") ",
          "delete_cmd_prefix": "rm(",
          "library": "var_list.r",
          "varRefreshCmd": "cat(var_dic_list()) "
        }
      },
      "types_to_exclude": [
        "module",
        "function",
        "builtin_function_or_method",
        "instance",
        "_Feature"
      ],
      "window_display": false
    },
    "colab": {
      "provenance": []
    }
  },
  "nbformat": 4,
  "nbformat_minor": 0
}